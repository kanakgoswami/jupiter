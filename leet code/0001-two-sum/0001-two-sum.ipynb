{
 "cells": [
  {
   "cell_type": "code",
   "execution_count": 13,
   "id": "67bf3113-cad4-4563-89d2-ef27e3b925ee",
   "metadata": {},
   "outputs": [
    {
     "name": "stdout",
     "output_type": "stream",
     "text": [
      "Example 1 Output: [0, 1]\n",
      "Example 2 Output: [1, 2]\n",
      "Example 3 Output: [0, 1]\n"
     ]
    }
   ],
   "source": [
    "# Define the twoSum function\n",
    "def twoSum(nums, target):\n",
    "    # Create a hash map to store the value and its index\n",
    "    num_map = {}\n",
    "    \n",
    "    # Iterate through the array\n",
    "    for i, num in enumerate(nums):\n",
    "        complement = target - num\n",
    "        \n",
    "        # Check if the complement is already in the map\n",
    "        if complement in num_map:\n",
    "            return [num_map[complement], i]\n",
    "        \n",
    "        # Add the current number and its index to the map\n",
    "        num_map[num] = i\n",
    "\n",
    "# Example Inputs\n",
    "nums1 = [2, 7, 11, 15]\n",
    "target1 = 9\n",
    "\n",
    "nums2 = [3, 2, 4]\n",
    "target2 = 6\n",
    "\n",
    "nums3 = [3, 3]\n",
    "target3 = 6\n",
    "\n",
    "# Test the function\n",
    "print(\"Example 1 Output:\", twoSum(nums1, target1))  # Expected: [0, 1]\n",
    "print(\"Example 2 Output:\", twoSum(nums2, target2))  # Expected: [1, 2]\n",
    "print(\"Example 3 Output:\", twoSum(nums3, target3))  # Expected: [0, 1]\n",
    "\n"
   ]
  },
  {
   "cell_type": "code",
   "execution_count": 5,
   "id": "29f9b353-65fd-4fbc-8205-6fee50f8446f",
   "metadata": {},
   "outputs": [],
   "source": []
  },
  {
   "cell_type": "code",
   "execution_count": 10,
   "id": "030c0a6f-edde-4076-91f2-c1071b465c01",
   "metadata": {},
   "outputs": [
    {
     "ename": "NameError",
     "evalue": "name 'num_map' is not defined",
     "output_type": "error",
     "traceback": [
      "\u001b[1;31m---------------------------------------------------------------------------\u001b[0m",
      "\u001b[1;31mNameError\u001b[0m                                 Traceback (most recent call last)",
      "Cell \u001b[1;32mIn[10], line 1\u001b[0m\n\u001b[1;32m----> 1\u001b[0m \u001b[38;5;28mprint\u001b[39m(num_map[num])\n",
      "\u001b[1;31mNameError\u001b[0m: name 'num_map' is not defined"
     ]
    }
   ],
   "source": []
  },
  {
   "cell_type": "code",
   "execution_count": null,
   "id": "474170ba-60d2-4a98-93bd-273b8c1d56f2",
   "metadata": {},
   "outputs": [],
   "source": []
  },
  {
   "cell_type": "code",
   "execution_count": null,
   "id": "9a051a24-eda7-483e-8a2a-65c2787fe3ac",
   "metadata": {},
   "outputs": [],
   "source": []
  }
 ],
 "metadata": {
  "kernelspec": {
   "display_name": "Python [conda env:base] *",
   "language": "python",
   "name": "conda-base-py"
  },
  "language_info": {
   "codemirror_mode": {
    "name": "ipython",
    "version": 3
   },
   "file_extension": ".py",
   "mimetype": "text/x-python",
   "name": "python",
   "nbconvert_exporter": "python",
   "pygments_lexer": "ipython3",
   "version": "3.12.7"
  }
 },
 "nbformat": 4,
 "nbformat_minor": 5
}
