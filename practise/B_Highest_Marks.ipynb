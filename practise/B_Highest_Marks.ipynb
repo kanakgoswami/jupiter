{
 "cells": [
  {
   "cell_type": "code",
   "execution_count": 14,
   "id": "fddf3476-8a16-43ef-9dec-010ec5465826",
   "metadata": {},
   "outputs": [],
   "source": [
    "student_marks = [\n",
    "    ['Name', ['A', 'B', 'C', 'D', 'E']],\n",
    "    ['Ankit', [41, 34, 45, 55, 63]],\n",
    "    ['Arvind', [42, 23, 34, 44, 53]],\n",
    "    ['Lakshay', [32, 23, 13, 54, 67]],\n",
    "    ['Gyan', [23, 82, 23, 63, 34]],\n",
    "    ['Pranav', [21, 23, 25, 56, 56]]\n",
    "]"
   ]
  },
  {
   "cell_type": "code",
   "execution_count": 7,
   "id": "57a1f71c-3944-40e7-90be-dc2c3d35e158",
   "metadata": {},
   "outputs": [],
   "source": [
    "student_with_highest_number = []\n",
    "\n",
    "for student_marks_B in student_marks[1:]:\n",
    "    name = student_marks_B[0]\n",
    "    marks_in_B =student_marks_B[1][1]\n",
    "    \n",
    "    student_with_highest_number.append([ marks_in_B, name])"
   ]
  },
  {
   "cell_type": "code",
   "execution_count": 10,
   "id": "8f677a1a-2cd4-4494-a865-c8a4ed2eebad",
   "metadata": {},
   "outputs": [
    {
     "name": "stdout",
     "output_type": "stream",
     "text": [
      "[[82, 'Gyan'], [34, 'Ankit'], [23, 'Pranav'], [23, 'Lakshay'], [23, 'Arvind']]\n"
     ]
    }
   ],
   "source": [
    "    student_with_highest_number.sort(reverse=True)\n",
    "    print (student_with_highest_number)"
   ]
  },
  {
   "cell_type": "code",
   "execution_count": 12,
   "id": "7b1f91c1-ab13-496b-9446-b8f422571ba9",
   "metadata": {},
   "outputs": [
    {
     "data": {
      "text/plain": [
       "[[23, 'Arvind'], [23, 'Lakshay'], [23, 'Pranav'], [34, 'Ankit'], [82, 'Gyan']]"
      ]
     },
     "execution_count": 12,
     "metadata": {},
     "output_type": "execute_result"
    }
   ],
   "source": [
    "sorted(student_with_highest_number)"
   ]
  },
  {
   "cell_type": "code",
   "execution_count": null,
   "id": "4a951da7-c2e6-4b31-946d-8be2d97394cd",
   "metadata": {},
   "outputs": [],
   "source": []
  }
 ],
 "metadata": {
  "kernelspec": {
   "display_name": "Python [conda env:base] *",
   "language": "python",
   "name": "conda-base-py"
  },
  "language_info": {
   "codemirror_mode": {
    "name": "ipython",
    "version": 3
   },
   "file_extension": ".py",
   "mimetype": "text/x-python",
   "name": "python",
   "nbconvert_exporter": "python",
   "pygments_lexer": "ipython3",
   "version": "3.12.7"
  }
 },
 "nbformat": 4,
 "nbformat_minor": 5
}
