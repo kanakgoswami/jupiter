{
 "cells": [
  {
   "cell_type": "code",
   "execution_count": 1,
   "id": "206d634e-f645-4d9d-8e1d-8d38cc71e20f",
   "metadata": {},
   "outputs": [
    {
     "name": "stdout",
     "output_type": "stream",
     "text": [
      "Defect Rate Per 100 Units Produced by Machine:\n",
      "Machine ID\n",
      "15    4.843565\n",
      "19    4.707372\n",
      "18    4.669232\n",
      "16    4.658999\n",
      "9     4.410170\n",
      "8     4.318547\n",
      "5     4.315760\n",
      "20    4.288228\n",
      "4     4.276269\n",
      "1     4.241111\n",
      "14    4.212762\n",
      "10    4.209381\n",
      "3     4.158817\n",
      "6     4.125716\n",
      "11    4.070258\n",
      "12    4.047747\n",
      "13    4.045316\n",
      "17    3.991558\n",
      "7     3.979339\n",
      "2     3.798925\n",
      "Name: Defect_Rate_Per_100_Units, dtype: float64\n",
      "The machine with the most defects is '15' with a defect rate of 4.84 defects per 100 units.\n"
     ]
    }
   ],
   "source": [
    "import pandas as pd\n",
    "\n",
    "# Load dataset\n",
    "file_path = \"Manufacturing_Dataset.csv\"  # Replace with your file path\n",
    "df = pd.read_csv(file_path)\n",
    "\n",
    "# Ensure the required columns exist\n",
    "machine_col = \"Machine ID\"  # Replace with the column representing machine ID\n",
    "defects_col = \"Defects\"     # Replace with the column representing defects\n",
    "production_col = \"Units Produced\"  # Replace with the column representing production volume\n",
    "\n",
    "if all(col in df.columns for col in [machine_col, defects_col, production_col]):\n",
    "    # Calculate defect rate per 100 units produced for each machine\n",
    "    df['Defect_Rate_Per_100_Units'] = (df[defects_col] / df[production_col]) * 100\n",
    "    \n",
    "    # Group by machine and calculate average defect rate\n",
    "    defect_rate_by_machine = df.groupby(machine_col)['Defect_Rate_Per_100_Units'].mean()\n",
    "    \n",
    "    # Sort by defect rate in descending order to find the machine with the highest defect rate\n",
    "    defect_rate_by_machine = defect_rate_by_machine.sort_values(ascending=False)\n",
    "    \n",
    "    print(\"Defect Rate Per 100 Units Produced by Machine:\")\n",
    "    print(defect_rate_by_machine)\n",
    "\n",
    "    # Identify the machine with the highest defect rate\n",
    "    most_defective_machine = defect_rate_by_machine.idxmax()\n",
    "    highest_defect_rate = defect_rate_by_machine.max()\n",
    "    print(f\"The machine with the most defects is '{most_defective_machine}' with a defect rate of {highest_defect_rate:.2f} defects per 100 units.\")\n",
    "else:\n",
    "    print(\"Error: One or more required columns are not in the dataset.\")\n"
   ]
  },
  {
   "cell_type": "code",
   "execution_count": null,
   "id": "d9d90e70-1a2f-4e8f-b11c-27f15c134647",
   "metadata": {},
   "outputs": [],
   "source": []
  }
 ],
 "metadata": {
  "kernelspec": {
   "display_name": "Python [conda env:base] *",
   "language": "python",
   "name": "conda-base-py"
  },
  "language_info": {
   "codemirror_mode": {
    "name": "ipython",
    "version": 3
   },
   "file_extension": ".py",
   "mimetype": "text/x-python",
   "name": "python",
   "nbconvert_exporter": "python",
   "pygments_lexer": "ipython3",
   "version": "3.12.7"
  }
 },
 "nbformat": 4,
 "nbformat_minor": 5
}
