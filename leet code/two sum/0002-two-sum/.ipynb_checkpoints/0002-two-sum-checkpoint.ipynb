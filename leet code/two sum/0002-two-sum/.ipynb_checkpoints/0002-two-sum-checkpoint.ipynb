{
 "cells": [
  {
   "cell_type": "code",
   "execution_count": 1,
   "id": "58ed80ef-9300-4374-9c8d-d6bb0b2efa73",
   "metadata": {},
   "outputs": [
    {
     "name": "stdout",
     "output_type": "stream",
     "text": [
      "[[0, 1], [0, 3]]\n"
     ]
    }
   ],
   "source": [
    "def twoSumAllPairs(nums, target):\n",
    "    results = []\n",
    "    num_map = {}\n",
    "    \n",
    "    for i, num in enumerate(nums):\n",
    "        complement = target - num\n",
    "        if complement in num_map:\n",
    "            results.append([num_map[complement], i])\n",
    "        num_map[num] = i\n",
    "    return results\n",
    "\n",
    "# Test Case\n",
    "nums = [2, 7, 11, 7]\n",
    "target = 9\n",
    "print(twoSumAllPairs(nums, target))  # Output: [[0, 1], [0, 3]]\n"
   ]
  },
  {
   "cell_type": "code",
   "execution_count": null,
   "id": "eee4d563-95e9-4933-a55f-910de28f9e8a",
   "metadata": {},
   "outputs": [],
   "source": []
  }
 ],
 "metadata": {
  "kernelspec": {
   "display_name": "Python [conda env:base] *",
   "language": "python",
   "name": "conda-base-py"
  },
  "language_info": {
   "codemirror_mode": {
    "name": "ipython",
    "version": 3
   },
   "file_extension": ".py",
   "mimetype": "text/x-python",
   "name": "python",
   "nbconvert_exporter": "python",
   "pygments_lexer": "ipython3",
   "version": "3.12.7"
  }
 },
 "nbformat": 4,
 "nbformat_minor": 5
}
