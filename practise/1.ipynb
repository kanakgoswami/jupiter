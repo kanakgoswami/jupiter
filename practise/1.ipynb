{
 "cells": [
  {
   "cell_type": "code",
   "execution_count": 1,
   "id": "7fa60e5a-6873-4ef7-827e-a46f669428c3",
   "metadata": {},
   "outputs": [],
   "source": [
    "student_marks = { \n",
    "                'Name': ['A','B','C','D','E'],\n",
    "                'Ankit': [41,34,45,55,63],\n",
    "                'Arvind': [42,23,34,44,53],\n",
    "                'Lakshay': [32,23,13,54,67],\n",
    "                'Gyan': [23,82,23,63,34],\n",
    "                'Pranav': [21,23,25,56,56]\n",
    "}"
   ]
  },
  {
   "cell_type": "code",
   "execution_count": 49,
   "id": "e7bddcc6-faac-4d21-95c6-295f0bdec96a",
   "metadata": {},
   "outputs": [
    {
     "name": "stdout",
     "output_type": "stream",
     "text": [
      "{'Name': ['A', 'B', 'C', 'D', 'E'], 'Ankit': [41, 34, 45, 55, 63], 'Arvind': [42, 23, 34, 44, 53], 'Lakshay': [32, 23, 13, 54, 67], 'Gyan': [23, 82, 23, 63, 34], 'Pranav': [21, 23, 25, 56, 56]}\n"
     ]
    }
   ],
   "source": [
    "print (student_marks)"
   ]
  },
  {
   "cell_type": "code",
   "execution_count": 8,
   "id": "971c1c92-b12d-435d-a936-ba39235c2490",
   "metadata": {},
   "outputs": [
    {
     "name": "stdout",
     "output_type": "stream",
     "text": [
      "{'Name': ['A', 'B', 'C', 'D', 'E'], 'Ankit': [41, 34, 45, 55, 63], 'Arvind': [42, 23, 34, 44, 53], 'Lakshay': [32, 23, 13, 54, 67], 'Gyan': [23, 82, 23, 63, 34], 'Pranav': [21, 23, 25, 56, 56]}\n"
     ]
    }
   ],
   "source": [
    "print (student_marks)"
   ]
  },
  {
   "cell_type": "code",
   "execution_count": 10,
   "id": "5eb77bc0-b40a-4f69-bda8-9f545708884f",
   "metadata": {},
   "outputs": [
    {
     "ename": "ModuleNotFoundError",
     "evalue": "No module named 'surprise'",
     "output_type": "error",
     "traceback": [
      "\u001b[1;31m---------------------------------------------------------------------------\u001b[0m",
      "\u001b[1;31mModuleNotFoundError\u001b[0m                       Traceback (most recent call last)",
      "Cell \u001b[1;32mIn[10], line 1\u001b[0m\n\u001b[1;32m----> 1\u001b[0m \u001b[38;5;28;01mimport\u001b[39;00m \u001b[38;5;21;01msurprise\u001b[39;00m\n\u001b[0;32m      2\u001b[0m \u001b[38;5;28mprint\u001b[39m(surprise\u001b[38;5;241m.\u001b[39m__version__)\n",
      "\u001b[1;31mModuleNotFoundError\u001b[0m: No module named 'surprise'"
     ]
    }
   ],
   "source": [
    "import surprise\n",
    "print(surprise.__version__)"
   ]
  },
  {
   "cell_type": "code",
   "execution_count": null,
   "id": "d49df225-4dd5-4235-ac53-f77c6d70d0d4",
   "metadata": {},
   "outputs": [],
   "source": []
  },
  {
   "cell_type": "code",
   "execution_count": null,
   "id": "d4266819-83af-49b9-a857-66ec9f201b17",
   "metadata": {},
   "outputs": [],
   "source": []
  },
  {
   "cell_type": "code",
   "execution_count": null,
   "id": "9673097a-fddb-472a-aff3-72d85a86c109",
   "metadata": {},
   "outputs": [],
   "source": []
  },
  {
   "cell_type": "code",
   "execution_count": null,
   "id": "9a8e74bf-5add-49a0-bed8-5b43b4b0259f",
   "metadata": {},
   "outputs": [],
   "source": []
  },
  {
   "cell_type": "code",
   "execution_count": null,
   "id": "542b076d-8496-41aa-adf1-9fc5e5bd2091",
   "metadata": {},
   "outputs": [],
   "source": []
  }
 ],
 "metadata": {
  "kernelspec": {
   "display_name": "Python [conda env:base] *",
   "language": "python",
   "name": "conda-base-py"
  },
  "language_info": {
   "codemirror_mode": {
    "name": "ipython",
    "version": 3
   },
   "file_extension": ".py",
   "mimetype": "text/x-python",
   "name": "python",
   "nbconvert_exporter": "python",
   "pygments_lexer": "ipython3",
   "version": "3.12.7"
  }
 },
 "nbformat": 4,
 "nbformat_minor": 5
}
