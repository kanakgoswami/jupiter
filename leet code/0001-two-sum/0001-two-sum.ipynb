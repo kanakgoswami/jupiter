{
 "cells": [
  {
   "cell_type": "code",
   "execution_count": null,
   "id": "67bf3113-cad4-4563-89d2-ef27e3b925ee",
   "metadata": {},
   "outputs": [],
   "source": [
    "\n",
    "class Solution {\n",
    "    public int[] twoSum(int[] nums, int target) { //2 , 7 , 11 , 15   target = 9 \n",
    "        int[] output = new int[2];\n",
    "        Map<Integer, Integer> map = new HashMap<>();\n",
    "\n",
    "        for(int i=0; i<nums.length ; i++){   // i=0 , 1; nums[i]=2  , 7 \n",
    "            if(map.containsKey(target - nums[i])){ //9-2   9-7=2\n",
    "                output[0] = i;  //1\n",
    "                output[1] = map.get(target- nums[i]);  //0\n",
    "                return output;\n",
    "            }\n",
    "            map.put(nums[i] , i);   // (2, 0)\n",
    "        }\n",
    "        return output;\n",
    "    }\n",
    "\n",
    "    //TC - O(N)\n",
    "    //SC - O(N)\n",
    "}\n"
   ]
  }
 ],
 "metadata": {
  "kernelspec": {
   "display_name": "Python [conda env:base] *",
   "language": "python",
   "name": "conda-base-py"
  },
  "language_info": {
   "codemirror_mode": {
    "name": "ipython",
    "version": 3
   },
   "file_extension": ".py",
   "mimetype": "text/x-python",
   "name": "python",
   "nbconvert_exporter": "python",
   "pygments_lexer": "ipython3",
   "version": "3.12.7"
  }
 },
 "nbformat": 4,
 "nbformat_minor": 5
}
