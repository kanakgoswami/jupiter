{
 "cells": [
  {
   "cell_type": "code",
   "execution_count": 13,
   "id": "67bf3113-cad4-4563-89d2-ef27e3b925ee",
   "metadata": {},
   "outputs": [
    {
     "name": "stdout",
     "output_type": "stream",
     "text": [
      "Example 1 Output: [0, 1]\n",
      "Example 2 Output: [1, 2]\n",
      "Example 3 Output: [0, 1]\n"
     ]
    }
   ],
   "source": [
    "# Define the twoSum function\n",
    "def twoSum(nums, target):\n",
    "    # Create a hash map to store the value and its index\n",
    "    num_map = {}\n",
    "    \n",
    "    # Iterate through the array\n",
    "    for i, num in enumerate(nums):\n",
    "        complement = target - num\n",
    "        \n",
    "        # Check if the complement is already in the map\n",
    "        if complement in num_map:\n",
    "            return [num_map[complement], i]\n",
    "        \n",
    "        # Add the current number and its index to the map\n",
    "        num_map[num] = i\n",
    "\n",
    "# Example Inputs\n",
    "nums1 = [2, 7, 11, 15]\n",
    "target1 = 9\n",
    "\n",
    "nums2 = [3, 2, 4]\n",
    "target2 = 6\n",
    "\n",
    "nums3 = [3, 3]\n",
    "target3 = 6\n",
    "\n",
    "# Test the function\n",
    "print(\"Example 1 Output:\", twoSum(nums1, target1))  # Expected: [0, 1]\n",
    "print(\"Example 2 Output:\", twoSum(nums2, target2))  # Expected: [1, 2]\n",
    "print(\"Example 3 Output:\", twoSum(nums3, target3))  # Expected: [0, 1]\n",
    "\n"
   ]
  }
 ],
 "metadata": {
  "kernelspec": {
   "display_name": "Python [conda env:base] *",
   "language": "python",
   "name": "conda-base-py"
  },
  "language_info": {
   "codemirror_mode": {
    "name": "ipython",
    "version": 3
   },
   "file_extension": ".py",
   "mimetype": "text/x-python",
   "name": "python",
   "nbconvert_exporter": "python",
   "pygments_lexer": "ipython3",
   "version": "3.12.7"
  }
 },
 "nbformat": 4,
 "nbformat_minor": 5
}
