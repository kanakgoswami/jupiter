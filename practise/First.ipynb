{
 "cells": [
  {
   "cell_type": "code",
   "execution_count": 14,
   "id": "fa898adb-294f-4312-816f-0fb5a0198d57",
   "metadata": {},
   "outputs": [
    {
     "name": "stdout",
     "output_type": "stream",
     "text": [
      "kanak 46\n"
     ]
    }
   ],
   "source": [
    "print(\"kanak\" + \" \" + \"46\" )"
   ]
  },
  {
   "cell_type": "code",
   "execution_count": 21,
   "id": "424ad53d-90af-45f5-a221-028657b1c9b1",
   "metadata": {},
   "outputs": [
    {
     "data": {
      "text/plain": [
       "7"
      ]
     },
     "execution_count": 21,
     "metadata": {},
     "output_type": "execute_result"
    }
   ],
   "source": [
    "10-6+3"
   ]
  },
  {
   "cell_type": "code",
   "execution_count": null,
   "id": "33d0bf97-e226-409d-a77b-ff4aea3cebc0",
   "metadata": {},
   "outputs": [],
   "source": []
  },
  {
   "cell_type": "code",
   "execution_count": null,
   "id": "14ffe2e0-3693-43f8-af9c-1e9a03ef75da",
   "metadata": {},
   "outputs": [],
   "source": []
  }
 ],
 "metadata": {
  "kernelspec": {
   "display_name": "Python [conda env:base] *",
   "language": "python",
   "name": "conda-base-py"
  },
  "language_info": {
   "codemirror_mode": {
    "name": "ipython",
    "version": 3
   },
   "file_extension": ".py",
   "mimetype": "text/x-python",
   "name": "python",
   "nbconvert_exporter": "python",
   "pygments_lexer": "ipython3",
   "version": "3.12.7"
  }
 },
 "nbformat": 4,
 "nbformat_minor": 5
}
